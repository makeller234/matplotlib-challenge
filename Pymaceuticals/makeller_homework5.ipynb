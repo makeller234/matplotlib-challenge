{
 "cells": [
  {
   "cell_type": "markdown",
   "metadata": {},
   "source": [
    "## Observations and Insights"
   ]
  },
  {
   "cell_type": "markdown",
   "metadata": {},
   "source": []
  },
  {
   "cell_type": "markdown",
   "metadata": {},
   "source": [
    "## Dependencies and starter code"
   ]
  },
  {
   "cell_type": "code",
   "execution_count": 2,
   "metadata": {},
   "outputs": [
    {
     "data": {
      "text/html": [
       "<div>\n",
       "<style scoped>\n",
       "    .dataframe tbody tr th:only-of-type {\n",
       "        vertical-align: middle;\n",
       "    }\n",
       "\n",
       "    .dataframe tbody tr th {\n",
       "        vertical-align: top;\n",
       "    }\n",
       "\n",
       "    .dataframe thead th {\n",
       "        text-align: right;\n",
       "    }\n",
       "</style>\n",
       "<table border=\"1\" class=\"dataframe\">\n",
       "  <thead>\n",
       "    <tr style=\"text-align: right;\">\n",
       "      <th></th>\n",
       "      <th>Mouse ID</th>\n",
       "      <th>Drug Regimen</th>\n",
       "      <th>Sex</th>\n",
       "      <th>Age_months</th>\n",
       "      <th>Weight (g)</th>\n",
       "      <th>Timepoint</th>\n",
       "      <th>Tumor Volume (mm3)</th>\n",
       "      <th>Metastatic Sites</th>\n",
       "    </tr>\n",
       "  </thead>\n",
       "  <tbody>\n",
       "    <tr>\n",
       "      <th>0</th>\n",
       "      <td>k403</td>\n",
       "      <td>Ramicane</td>\n",
       "      <td>Male</td>\n",
       "      <td>21</td>\n",
       "      <td>16</td>\n",
       "      <td>0</td>\n",
       "      <td>45.000000</td>\n",
       "      <td>0</td>\n",
       "    </tr>\n",
       "    <tr>\n",
       "      <th>1</th>\n",
       "      <td>k403</td>\n",
       "      <td>Ramicane</td>\n",
       "      <td>Male</td>\n",
       "      <td>21</td>\n",
       "      <td>16</td>\n",
       "      <td>5</td>\n",
       "      <td>38.825898</td>\n",
       "      <td>0</td>\n",
       "    </tr>\n",
       "    <tr>\n",
       "      <th>2</th>\n",
       "      <td>k403</td>\n",
       "      <td>Ramicane</td>\n",
       "      <td>Male</td>\n",
       "      <td>21</td>\n",
       "      <td>16</td>\n",
       "      <td>10</td>\n",
       "      <td>35.014271</td>\n",
       "      <td>1</td>\n",
       "    </tr>\n",
       "    <tr>\n",
       "      <th>3</th>\n",
       "      <td>k403</td>\n",
       "      <td>Ramicane</td>\n",
       "      <td>Male</td>\n",
       "      <td>21</td>\n",
       "      <td>16</td>\n",
       "      <td>15</td>\n",
       "      <td>34.223992</td>\n",
       "      <td>1</td>\n",
       "    </tr>\n",
       "    <tr>\n",
       "      <th>4</th>\n",
       "      <td>k403</td>\n",
       "      <td>Ramicane</td>\n",
       "      <td>Male</td>\n",
       "      <td>21</td>\n",
       "      <td>16</td>\n",
       "      <td>20</td>\n",
       "      <td>32.997729</td>\n",
       "      <td>1</td>\n",
       "    </tr>\n",
       "  </tbody>\n",
       "</table>\n",
       "</div>"
      ],
      "text/plain": [
       "  Mouse ID Drug Regimen   Sex  Age_months  Weight (g)  Timepoint  \\\n",
       "0     k403     Ramicane  Male          21          16          0   \n",
       "1     k403     Ramicane  Male          21          16          5   \n",
       "2     k403     Ramicane  Male          21          16         10   \n",
       "3     k403     Ramicane  Male          21          16         15   \n",
       "4     k403     Ramicane  Male          21          16         20   \n",
       "\n",
       "   Tumor Volume (mm3)  Metastatic Sites  \n",
       "0           45.000000                 0  \n",
       "1           38.825898                 0  \n",
       "2           35.014271                 1  \n",
       "3           34.223992                 1  \n",
       "4           32.997729                 1  "
      ]
     },
     "execution_count": 2,
     "metadata": {},
     "output_type": "execute_result"
    }
   ],
   "source": [
    "# Dependencies and Setup\n",
    "import matplotlib.pyplot as plt\n",
    "import pandas as pd\n",
    "import scipy.stats as st\n",
    "import numpy as np\n",
    "\n",
    "# Study data files\n",
    "mouse_metadata = \"data/Mouse_metadata.csv\"\n",
    "study_results = \"data/Study_results.csv\"\n",
    "\n",
    "# Read the mouse data and the study results\n",
    "mouse_metadata = pd.read_csv(mouse_metadata)\n",
    "study_results = pd.read_csv(study_results)\n",
    "\n",
    "# Combine the data into a single dataset\n",
    "mouseStudy = pd.merge(mouse_metadata, study_results, how=\"outer\", on=\"Mouse ID\")\n",
    "mouseStudy.head()"
   ]
  },
  {
   "cell_type": "markdown",
   "metadata": {},
   "source": [
    "## Summary statistics"
   ]
  },
  {
   "cell_type": "code",
   "execution_count": 3,
   "metadata": {},
   "outputs": [
    {
     "data": {
      "text/html": [
       "<div>\n",
       "<style scoped>\n",
       "    .dataframe tbody tr th:only-of-type {\n",
       "        vertical-align: middle;\n",
       "    }\n",
       "\n",
       "    .dataframe tbody tr th {\n",
       "        vertical-align: top;\n",
       "    }\n",
       "\n",
       "    .dataframe thead th {\n",
       "        text-align: right;\n",
       "    }\n",
       "</style>\n",
       "<table border=\"1\" class=\"dataframe\">\n",
       "  <thead>\n",
       "    <tr style=\"text-align: right;\">\n",
       "      <th></th>\n",
       "      <th>Average Tumor Size</th>\n",
       "      <th>Median Tumor Size</th>\n",
       "      <th>Variance</th>\n",
       "      <th>Standard Deviation</th>\n",
       "      <th>SEM</th>\n",
       "    </tr>\n",
       "    <tr>\n",
       "      <th>Drug Regimen</th>\n",
       "      <th></th>\n",
       "      <th></th>\n",
       "      <th></th>\n",
       "      <th></th>\n",
       "      <th></th>\n",
       "    </tr>\n",
       "  </thead>\n",
       "  <tbody>\n",
       "    <tr>\n",
       "      <th>Capomulin</th>\n",
       "      <td>40.675741</td>\n",
       "      <td>41.557809</td>\n",
       "      <td>24.947764</td>\n",
       "      <td>4.994774</td>\n",
       "      <td>0.329346</td>\n",
       "    </tr>\n",
       "    <tr>\n",
       "      <th>Ceftamin</th>\n",
       "      <td>52.591172</td>\n",
       "      <td>51.776157</td>\n",
       "      <td>39.290177</td>\n",
       "      <td>6.268188</td>\n",
       "      <td>0.469821</td>\n",
       "    </tr>\n",
       "    <tr>\n",
       "      <th>Infubinol</th>\n",
       "      <td>52.884795</td>\n",
       "      <td>51.820584</td>\n",
       "      <td>43.128684</td>\n",
       "      <td>6.567243</td>\n",
       "      <td>0.492236</td>\n",
       "    </tr>\n",
       "    <tr>\n",
       "      <th>Ketapril</th>\n",
       "      <td>55.235638</td>\n",
       "      <td>53.698743</td>\n",
       "      <td>68.553577</td>\n",
       "      <td>8.279709</td>\n",
       "      <td>0.603860</td>\n",
       "    </tr>\n",
       "    <tr>\n",
       "      <th>Naftisol</th>\n",
       "      <td>54.331565</td>\n",
       "      <td>52.509285</td>\n",
       "      <td>66.173479</td>\n",
       "      <td>8.134708</td>\n",
       "      <td>0.596466</td>\n",
       "    </tr>\n",
       "    <tr>\n",
       "      <th>Placebo</th>\n",
       "      <td>54.033581</td>\n",
       "      <td>52.288934</td>\n",
       "      <td>61.168083</td>\n",
       "      <td>7.821003</td>\n",
       "      <td>0.581331</td>\n",
       "    </tr>\n",
       "    <tr>\n",
       "      <th>Propriva</th>\n",
       "      <td>52.322552</td>\n",
       "      <td>50.854632</td>\n",
       "      <td>42.351070</td>\n",
       "      <td>6.507770</td>\n",
       "      <td>0.512884</td>\n",
       "    </tr>\n",
       "    <tr>\n",
       "      <th>Ramicane</th>\n",
       "      <td>40.216745</td>\n",
       "      <td>40.673236</td>\n",
       "      <td>23.486704</td>\n",
       "      <td>4.846308</td>\n",
       "      <td>0.320955</td>\n",
       "    </tr>\n",
       "    <tr>\n",
       "      <th>Stelasyn</th>\n",
       "      <td>54.233149</td>\n",
       "      <td>52.431737</td>\n",
       "      <td>59.450562</td>\n",
       "      <td>7.710419</td>\n",
       "      <td>0.573111</td>\n",
       "    </tr>\n",
       "    <tr>\n",
       "      <th>Zoniferol</th>\n",
       "      <td>53.236507</td>\n",
       "      <td>51.818479</td>\n",
       "      <td>48.533355</td>\n",
       "      <td>6.966589</td>\n",
       "      <td>0.516398</td>\n",
       "    </tr>\n",
       "  </tbody>\n",
       "</table>\n",
       "</div>"
      ],
      "text/plain": [
       "              Average Tumor Size  Median Tumor Size   Variance  \\\n",
       "Drug Regimen                                                     \n",
       "Capomulin              40.675741          41.557809  24.947764   \n",
       "Ceftamin               52.591172          51.776157  39.290177   \n",
       "Infubinol              52.884795          51.820584  43.128684   \n",
       "Ketapril               55.235638          53.698743  68.553577   \n",
       "Naftisol               54.331565          52.509285  66.173479   \n",
       "Placebo                54.033581          52.288934  61.168083   \n",
       "Propriva               52.322552          50.854632  42.351070   \n",
       "Ramicane               40.216745          40.673236  23.486704   \n",
       "Stelasyn               54.233149          52.431737  59.450562   \n",
       "Zoniferol              53.236507          51.818479  48.533355   \n",
       "\n",
       "              Standard Deviation       SEM  \n",
       "Drug Regimen                                \n",
       "Capomulin               4.994774  0.329346  \n",
       "Ceftamin                6.268188  0.469821  \n",
       "Infubinol               6.567243  0.492236  \n",
       "Ketapril                8.279709  0.603860  \n",
       "Naftisol                8.134708  0.596466  \n",
       "Placebo                 7.821003  0.581331  \n",
       "Propriva                6.507770  0.512884  \n",
       "Ramicane                4.846308  0.320955  \n",
       "Stelasyn                7.710419  0.573111  \n",
       "Zoniferol               6.966589  0.516398  "
      ]
     },
     "execution_count": 3,
     "metadata": {},
     "output_type": "execute_result"
    }
   ],
   "source": [
    "# Generate a summary statistics table of mean, median, variance, standard deviation, \n",
    "# and SEM of the tumor volume for each regimen\n",
    "\n",
    "regimenGroup = mouseStudy.groupby([\"Drug Regimen\"])\n",
    "\n",
    "avgTumor = regimenGroup[\"Tumor Volume (mm3)\"].mean()\n",
    "medianTumor = regimenGroup[\"Tumor Volume (mm3)\"].median()\n",
    "varTumor = regimenGroup[\"Tumor Volume (mm3)\"].var()\n",
    "stdTumor = regimenGroup[\"Tumor Volume (mm3)\"].std()\n",
    "semTumor = regimenGroup[\"Tumor Volume (mm3)\"].sem()\n",
    "\n",
    "\n",
    "mouseSummaryTable = pd.DataFrame({\"Average Tumor Size\": avgTumor,\n",
    "                            \"Median Tumor Size\": medianTumor, \"Variance\": varTumor,\n",
    "                           \"Standard Deviation\": stdTumor, \"SEM\": semTumor})\n",
    "mouseSummaryTable"
   ]
  },
  {
   "cell_type": "markdown",
   "metadata": {},
   "source": [
    "## Bar plots"
   ]
  },
  {
   "cell_type": "code",
   "execution_count": 4,
   "metadata": {
    "scrolled": false
   },
   "outputs": [
    {
     "data": {
      "image/png": "[encoded data removed]",
      "text/plain": [
       "<Figure size 432x288 with 1 Axes>"
      ]
     },
     "metadata": {
      "needs_background": "light"
     },
     "output_type": "display_data"
    }
   ],
   "source": [
    "# Generate a bar plot showing number of data points for each treatment regimen using pandas\n",
    "uniqueByMouse = mouseStudy.sort_values(by=\"Drug Regimen\").drop_duplicates(subset=\"Mouse ID\")\n",
    "barGraphGroups = uniqueByMouse.groupby([\"Drug Regimen\"])\n",
    "pd.value_counts(uniqueByMouse[\"Drug Regimen\"]).plot(kind=\"bar\", color=\"dodgerblue\")\n",
    "plt.xticks(rotation=45)\n",
    "plt.xlabel(\"Drug Name\")\n",
    "plt.ylabel(\"Number of Mice Treated with Drug\")\n",
    "plt.title(\"Drug Frequency in Trial\")\n",
    "plt.show()"
   ]
  },
  {
   "cell_type": "code",
   "execution_count": 5,
   "metadata": {},
   "outputs": [
    {
     "data": {
      "image/png": "[encoded data removed]",
      "text/plain": [
       "<Figure size 432x288 with 1 Axes>"
      ]
     },
     "metadata": {
      "needs_background": "light"
     },
     "output_type": "display_data"
    }
   ],
   "source": [
    "# Generate a bar plot showing number of data points for each treatment regimen using pyplot\n",
    "uniqueByMouse = mouseStudy.sort_values(by=\"Drug Regimen\").drop_duplicates(subset=\"Mouse ID\")\n",
    "barGraphGroups = uniqueByMouse.groupby([\"Drug Regimen\"])\n",
    "\n",
    "x_axis = np.arange(len(barGraphGroups[\"Drug Regimen\"]))\n",
    "y_axis = barGraphGroups[\"Mouse ID\"].count()\n",
    "\n",
    "plt.bar(x_axis, y_axis, color = \"dodgerblue\")\n",
    "tick_locations = [value for value in x_axis]\n",
    "plt.xticks(tick_locations, [\"Capomulin\", \"Ceftamin\", \"Infubinol\", \"Ketapril\", \"Naftisol\",\n",
    "                            \"Placebo\", \"Propriva\", \"Ramicane\", \"Stelasyn\", \"Zoniferol\"], rotation = 45)\n",
    "\n",
    "plt.xlabel(\"Drug Name\")\n",
    "plt.ylabel(\"Number of Mice Treated with Drug\")\n",
    "plt.title(\"Drug Frequency in Trial\")\n",
    "plt.show()"
   ]
  },
  {
   "cell_type": "markdown",
   "metadata": {},
   "source": [
    "## Pie plots"
   ]
  },
  {
   "cell_type": "code",
   "execution_count": 6,
   "metadata": {},
   "outputs": [
    {
     "data": {
      "image/png": "[encoded data removed]",
      "text/plain": [
       "<Figure size 360x360 with 1 Axes>"
      ]
     },
     "metadata": {},
     "output_type": "display_data"
    }
   ],
   "source": [
    "# Generate a pie plot showing the distribution of female versus male mice using pandas\n",
    "uniqueByMouseGender = mouseStudy.sort_values(by=\"Sex\").drop_duplicates(subset=\"Mouse ID\")\n",
    "pieGraphGroup = uniqueByMouseGender.groupby([\"Sex\"])\n",
    "counts = pieGraphGroup[\"Sex\"].count()\n",
    "pieGraphData = pd.DataFrame(counts)\n",
    "piePlot = pieGraphData.plot.pie(subplots=True, figsize = (5,5), colors = [\"orchid\", \"skyblue\"], autopct = \"%.2f%%\")\n",
    "plt.title(\"Gender Distribtuion\")\n",
    "plt.show()\n"
   ]
  },
  {
   "cell_type": "code",
   "execution_count": 7,
   "metadata": {},
   "outputs": [
    {
     "data": {
      "image/png": "[encoded data removed]",
      "text/plain": [
       "<Figure size 432x288 with 1 Axes>"
      ]
     },
     "metadata": {},
     "output_type": "display_data"
    }
   ],
   "source": [
    "# Generate a pie plot showing the distribution of female versus male mice using pyplot\n",
    "uniqueByMouseGender = mouseStudy.sort_values(by=\"Sex\").drop_duplicates(subset=\"Mouse ID\")\n",
    "pieGraphGroup = uniqueByMouseGender.groupby([\"Sex\"])\n",
    "\n",
    "labels = [\"Female\", \"Male\"]\n",
    "sizes = pieGraphGroup[\"Sex\"].count()\n",
    "plt.pie(sizes, labels=labels, colors = [\"orchid\", 'skyblue'], autopct = \"%.2f%%\")\n",
    "plt.title(\"Gender Distribution\")\n",
    "plt.show()"
   ]
  },
  {
   "cell_type": "markdown",
   "metadata": {},
   "source": [
    "## Quartiles, outliers and boxplots"
   ]
  },
  {
   "cell_type": "code",
   "execution_count": null,
   "metadata": {},
   "outputs": [],
   "source": [
    "\n",
    "\n",
    "   \n"
   ]
  },
  {
   "cell_type": "code",
   "execution_count": 8,
   "metadata": {},
   "outputs": [],
   "source": [
    "# Calculate the final tumor volume of each mouse across four of the most promising treatment regimens. \n",
    "# Calculate the IQR and quantitatively determine if there are any potential outliers. \n",
    "\n",
    "fourTreatments = mouseStudy.loc[((mouseStudy[\"Drug Regimen\"]==\"Ramicane\") |\n",
    "                                        (mouseStudy[\"Drug Regimen\"]==\"Capomulin\") |\n",
    "                                         (mouseStudy[\"Drug Regimen\"]==\"Infubinol\") |\n",
    "                                        (mouseStudy[\"Drug Regimen\"]==\"Ceftamin\"))]\n",
    "\n",
    "treatmentsGrouped = fourTreatments.groupby([\"Mouse ID\", \"Drug Regimen\"])[\"Timepoint\"].max()\n",
    "\n",
    "treatmentsGroupedDf = pd.DataFrame(treatmentsGrouped)\n",
    "\n",
    "\n",
    "fourTreatmentsFinal = pd.merge(fourTreatments, treatmentsGroupedDf, how =\"inner\", on =[\"Mouse ID\", \"Drug Regimen\", \n",
    "                                                                                       \"Timepoint\"])\n",
    "\n",
    "\n",
    "\n",
    "\n",
    "ramicaneFinalTumorVol = fourTreatmentsFinal.loc[fourTreatmentsFinal[\"Drug Regimen\"]==\"Ramicane\", \n",
    "                                                [\"Tumor Volume (mm3)\"]]\n",
    "capomulinFinalTumorVol = fourTreatmentsFinal.loc[fourTreatmentsFinal[\"Drug Regimen\"]==\"Capomulin\", \n",
    "                                                 [\"Tumor Volume (mm3)\"]]\n",
    "infubinolFinalTumorVol = fourTreatmentsFinal.loc[fourTreatmentsFinal[\"Drug Regimen\"]==\"Infubinol\", \n",
    "                                                 [\"Tumor Volume (mm3)\"]]\n",
    "ceftaminFinalTumorVol = fourTreatmentsFinal.loc[fourTreatmentsFinal[\"Drug Regimen\"]==\"Ceftamin\", \n",
    "                                                [\"Tumor Volume (mm3)\"]]\n",
    "\n",
    "\n",
    "\n",
    "ramQuartiles = ramicaneFinalTumorVol[\"Tumor Volume (mm3)\"].quantile([0.25,0.5,0.75])\n",
    "ramLowQ = ramQuartiles[0.25]\n",
    "ramUpQ = ramQuartiles[0.75]\n",
    "ramIQR = ramUpQ-ramLowQ\n",
    "ramLower = ramLowQ - (1.5 * ramIQR)\n",
    "ramUpper = ramUpQ + (1.5 * ramIQR)\n",
    "# print(f\"Values below {ramLower} could be outliers for Ramicane.\")\n",
    "# print(f\"Values above {ramUpper} could be outliers for Ramicane.\")\n",
    "\n",
    "capQuartiles = capomulinFinalTumorVol[\"Tumor Volume (mm3)\"].quantile([0.25, 0.5, 0.75])\n",
    "capLowQ = capQuartiles[0.25]\n",
    "capUpQ = capQuartiles[0.75]\n",
    "capIQR = capUpQ-capLowQ\n",
    "capLower = capLowQ - (1.5 * capIQR)\n",
    "capUpper = capUpQ + (1.5 * capIQR)\n",
    "# print(f\"Values below {capLower} could be outliers for Capomulin.\")\n",
    "# print(f\"Values above {capUpper} could be outliers for Capomulin.\")\n",
    "\n",
    "infQuartiles = infubinolFinalTumorVol[\"Tumor Volume (mm3)\"].quantile([0.25, 0.5, 0.75])\n",
    "infLowQ = infQuartiles[0.25]\n",
    "infUpQ = infQuartiles[0.75]\n",
    "infIQR = infUpQ - infLowQ\n",
    "infLower = infLowQ - (1.5 * infIQR)\n",
    "infUpper = infUpQ + (1.5 * infIQR)\n",
    "# print(f\"Values below {infLower} could be outliers for Infubinol.\")\n",
    "# print(f\"Values above {infUpper} could be outliers for Infubinol.\")\n",
    "\n",
    "cefQuartiles = ceftaminFinalTumorVol[\"Tumor Volume (mm3)\"].quantile([0.25, 0.5, 0.75])\n",
    "cefLowQ = cefQuartiles[0.25]\n",
    "cefUpQ = cefQuartiles[0.75]\n",
    "cefIQR = cefUpQ - cefLowQ\n",
    "cefLower = cefLowQ - (1.5 * cefIQR)\n",
    "cefUpper = cefUpQ + (1.5 * cefIQR)\n",
    "# print(f\"Values below {cefLower} could be outliers for Ceftamin.\")\n",
    "# print(f\"Values above {cefUpper} could be outliers for Ceftamin.\")  \n"
   ]
  },
  {
   "cell_type": "code",
   "execution_count": 9,
   "metadata": {},
   "outputs": [
    {
     "data": {
      "image/png": "[encoded data removed]",
      "text/plain": [
       "<Figure size 432x288 with 4 Axes>"
      ]
     },
     "metadata": {
      "needs_background": "light"
     },
     "output_type": "display_data"
    }
   ],
   "source": [
    "# Generate a box plot of the final tumor volume of each mouse across four regimens of interest\n",
    "fig, axs = plt.subplots(1,4)\n",
    "fig.suptitle(\"4 Most Promising Treatments\")\n",
    "\n",
    "flierprops = dict(marker='o', markerfacecolor='lightseagreen', markersize=7, linestyle='none')\n",
    "medianprops= dict(color=\"crimson\")\n",
    "\n",
    "axs[0].boxplot(ramicaneFinalTumorVol[\"Tumor Volume (mm3)\"], flierprops=flierprops, medianprops=medianprops)\n",
    "axs[0].set_title(\"Ramicane\")\n",
    "axs[0].set_ylabel(\"Final Tumor Volume (mm3)\")\n",
    "axs[1].boxplot(capomulinFinalTumorVol[\"Tumor Volume (mm3)\"], flierprops=flierprops, medianprops=medianprops)\n",
    "axs[1].set_title(\"Capomulin\")\n",
    "axs[1].set_ylabel(\"Final Tumor Volume (mm3)\")\n",
    "axs[2].boxplot(infubinolFinalTumorVol[\"Tumor Volume (mm3)\"], flierprops=flierprops, medianprops=medianprops)\n",
    "axs[2].set_title(\"Infubinol\")\n",
    "axs[2].set_ylabel(\"Final Tumor Volume (mm3)\")\n",
    "axs[3].boxplot(ceftaminFinalTumorVol[\"Tumor Volume (mm3)\"], flierprops=flierprops, medianprops=medianprops)\n",
    "axs[3].set_title(\"Ceftamin\")\n",
    "axs[3].set_ylabel(\"Final Tumor Volume (mm3)\")\n",
    "\n",
    "\n",
    "plt.subplots_adjust(left = 0.1, bottom = None, right = 2.75, top = None, wspace = 0.2, hspace = 0.2)\n",
    "plt.show()"
   ]
  },
  {
   "cell_type": "markdown",
   "metadata": {},
   "source": [
    "## Line and scatter plots"
   ]
  },
  {
   "cell_type": "code",
   "execution_count": 10,
   "metadata": {},
   "outputs": [
    {
     "data": {
      "image/png": "[encoded data removed]",
      "text/plain": [
       "<Figure size 432x288 with 1 Axes>"
      ]
     },
     "metadata": {
      "needs_background": "light"
     },
     "output_type": "display_data"
    }
   ],
   "source": [
    "# Generate a line plot of time point versus tumor volume for a mouse treated with Capomulin\n",
    "\n",
    "s185 = mouseStudy.loc[mouseStudy[\"Mouse ID\"]== \"s185\"]\n",
    "xvalues= s185[\"Timepoint\"]\n",
    "yvalues = s185[\"Tumor Volume (mm3)\"]\n",
    "plt.plot(xvalues, yvalues, color = \"darkolivegreen\")\n",
    "plt.title(\"Tumor Volume over Time for Mouse S185\")\n",
    "plt.ylabel(\"Tumor Volume (mm3)\")\n",
    "plt.xlabel(\"Time\")\n",
    "plt.show()"
   ]
  },
  {
   "cell_type": "code",
   "execution_count": 16,
   "metadata": {},
   "outputs": [
    {
     "data": {
      "image/png": "[encoded data removed]",
      "text/plain": [
       "<Figure size 432x288 with 1 Axes>"
      ]
     },
     "metadata": {
      "needs_background": "light"
     },
     "output_type": "display_data"
    },
    {
     "data": {
      "text/html": [
       "<div>\n",
       "<style scoped>\n",
       "    .dataframe tbody tr th:only-of-type {\n",
       "        vertical-align: middle;\n",
       "    }\n",
       "\n",
       "    .dataframe tbody tr th {\n",
       "        vertical-align: top;\n",
       "    }\n",
       "\n",
       "    .dataframe thead th {\n",
       "        text-align: right;\n",
       "    }\n",
       "</style>\n",
       "<table border=\"1\" class=\"dataframe\">\n",
       "  <thead>\n",
       "    <tr style=\"text-align: right;\">\n",
       "      <th></th>\n",
       "      <th>Mouse ID</th>\n",
       "      <th>Drug Regimen</th>\n",
       "      <th>Sex</th>\n",
       "      <th>Age_months</th>\n",
       "      <th>Weight (g)</th>\n",
       "      <th>Timepoint</th>\n",
       "      <th>Tumor Volume (mm3)</th>\n",
       "      <th>Metastatic Sites</th>\n",
       "    </tr>\n",
       "  </thead>\n",
       "  <tbody>\n",
       "    <tr>\n",
       "      <th>10</th>\n",
       "      <td>s185</td>\n",
       "      <td>Capomulin</td>\n",
       "      <td>Female</td>\n",
       "      <td>3</td>\n",
       "      <td>17</td>\n",
       "      <td>0</td>\n",
       "      <td>45.000000</td>\n",
       "      <td>0</td>\n",
       "    </tr>\n",
       "    <tr>\n",
       "      <th>11</th>\n",
       "      <td>s185</td>\n",
       "      <td>Capomulin</td>\n",
       "      <td>Female</td>\n",
       "      <td>3</td>\n",
       "      <td>17</td>\n",
       "      <td>5</td>\n",
       "      <td>43.878496</td>\n",
       "      <td>0</td>\n",
       "    </tr>\n",
       "    <tr>\n",
       "      <th>12</th>\n",
       "      <td>s185</td>\n",
       "      <td>Capomulin</td>\n",
       "      <td>Female</td>\n",
       "      <td>3</td>\n",
       "      <td>17</td>\n",
       "      <td>10</td>\n",
       "      <td>37.614948</td>\n",
       "      <td>0</td>\n",
       "    </tr>\n",
       "    <tr>\n",
       "      <th>13</th>\n",
       "      <td>s185</td>\n",
       "      <td>Capomulin</td>\n",
       "      <td>Female</td>\n",
       "      <td>3</td>\n",
       "      <td>17</td>\n",
       "      <td>15</td>\n",
       "      <td>38.177232</td>\n",
       "      <td>0</td>\n",
       "    </tr>\n",
       "    <tr>\n",
       "      <th>14</th>\n",
       "      <td>s185</td>\n",
       "      <td>Capomulin</td>\n",
       "      <td>Female</td>\n",
       "      <td>3</td>\n",
       "      <td>17</td>\n",
       "      <td>20</td>\n",
       "      <td>36.866876</td>\n",
       "      <td>0</td>\n",
       "    </tr>\n",
       "    <tr>\n",
       "      <th>...</th>\n",
       "      <td>...</td>\n",
       "      <td>...</td>\n",
       "      <td>...</td>\n",
       "      <td>...</td>\n",
       "      <td>...</td>\n",
       "      <td>...</td>\n",
       "      <td>...</td>\n",
       "      <td>...</td>\n",
       "    </tr>\n",
       "    <tr>\n",
       "      <th>440</th>\n",
       "      <td>i557</td>\n",
       "      <td>Capomulin</td>\n",
       "      <td>Female</td>\n",
       "      <td>1</td>\n",
       "      <td>24</td>\n",
       "      <td>45</td>\n",
       "      <td>47.685963</td>\n",
       "      <td>1</td>\n",
       "    </tr>\n",
       "    <tr>\n",
       "      <th>1452</th>\n",
       "      <td>r157</td>\n",
       "      <td>Capomulin</td>\n",
       "      <td>Male</td>\n",
       "      <td>22</td>\n",
       "      <td>25</td>\n",
       "      <td>0</td>\n",
       "      <td>45.000000</td>\n",
       "      <td>0</td>\n",
       "    </tr>\n",
       "    <tr>\n",
       "      <th>1453</th>\n",
       "      <td>r157</td>\n",
       "      <td>Capomulin</td>\n",
       "      <td>Male</td>\n",
       "      <td>22</td>\n",
       "      <td>25</td>\n",
       "      <td>5</td>\n",
       "      <td>45.597064</td>\n",
       "      <td>0</td>\n",
       "    </tr>\n",
       "    <tr>\n",
       "      <th>1454</th>\n",
       "      <td>r157</td>\n",
       "      <td>Capomulin</td>\n",
       "      <td>Male</td>\n",
       "      <td>22</td>\n",
       "      <td>25</td>\n",
       "      <td>10</td>\n",
       "      <td>46.059608</td>\n",
       "      <td>0</td>\n",
       "    </tr>\n",
       "    <tr>\n",
       "      <th>1455</th>\n",
       "      <td>r157</td>\n",
       "      <td>Capomulin</td>\n",
       "      <td>Male</td>\n",
       "      <td>22</td>\n",
       "      <td>25</td>\n",
       "      <td>15</td>\n",
       "      <td>46.539206</td>\n",
       "      <td>0</td>\n",
       "    </tr>\n",
       "  </tbody>\n",
       "</table>\n",
       "<p>230 rows × 8 columns</p>\n",
       "</div>"
      ],
      "text/plain": [
       "     Mouse ID Drug Regimen     Sex  Age_months  Weight (g)  Timepoint  \\\n",
       "10       s185    Capomulin  Female           3          17          0   \n",
       "11       s185    Capomulin  Female           3          17          5   \n",
       "12       s185    Capomulin  Female           3          17         10   \n",
       "13       s185    Capomulin  Female           3          17         15   \n",
       "14       s185    Capomulin  Female           3          17         20   \n",
       "...       ...          ...     ...         ...         ...        ...   \n",
       "440      i557    Capomulin  Female           1          24         45   \n",
       "1452     r157    Capomulin    Male          22          25          0   \n",
       "1453     r157    Capomulin    Male          22          25          5   \n",
       "1454     r157    Capomulin    Male          22          25         10   \n",
       "1455     r157    Capomulin    Male          22          25         15   \n",
       "\n",
       "      Tumor Volume (mm3)  Metastatic Sites  \n",
       "10             45.000000                 0  \n",
       "11             43.878496                 0  \n",
       "12             37.614948                 0  \n",
       "13             38.177232                 0  \n",
       "14             36.866876                 0  \n",
       "...                  ...               ...  \n",
       "440            47.685963                 1  \n",
       "1452           45.000000                 0  \n",
       "1453           45.597064                 0  \n",
       "1454           46.059608                 0  \n",
       "1455           46.539206                 0  \n",
       "\n",
       "[230 rows x 8 columns]"
      ]
     },
     "execution_count": 16,
     "metadata": {},
     "output_type": "execute_result"
    }
   ],
   "source": [
    "# Generate a scatter plot of mouse weight versus average tumor volume for the Capomulin regimen\n",
    "\n",
    "capomulinMice = mouseStudy.loc[mouseStudy[\"Drug Regimen\"]==\"Capomulin\"]\n",
    "capomulinMiceGroups = capomulinMice.groupby([\"Mouse ID\"])\n",
    "mouseWeight = capomulinMiceGroups[\"Weight (g)\"].mean()\n",
    "mouseTumorVol = capomulinMiceGroups[\"Tumor Volume (mm3)\"].mean()\n",
    "\n",
    "plt.title(\"Average Mouse weight and Average Tumor Volume for mice treated with Capomulin\")\n",
    "plt.xlabel(\"Average Mouse Weight (g)\")\n",
    "plt.ylabel(\"Average Tumor Volume (mm3)\")\n",
    "plt.scatter(mouseWeight,mouseTumorVol, color = \"midnightblue\")\n",
    "\n",
    "plt.show()"
   ]
  },
  {
   "cell_type": "code",
   "execution_count": 11,
   "metadata": {},
   "outputs": [
    {
     "data": {
      "image/png": "[encoded data removed]",
      "text/plain": [
       "<Figure size 432x288 with 1 Axes>"
      ]
     },
     "metadata": {
      "needs_background": "light"
     },
     "output_type": "display_data"
    }
   ],
   "source": [
    "# Calculate the correlation coefficient and linear regression model for mouse weight and average tumor volume \n",
    "# for the Capomulin regimen\n",
    "slope, intercept, rvalue, pvalue, stderr = st.linregress(mouseWeight, mouseTumorVol)\n",
    "regressValues = mouseWeight* slope + intercept\n",
    "lineEq = \"y = \" + str(round(slope,2)) + \"x + \" +str(round(intercept,2))\n",
    "plt.scatter(mouseWeight, mouseTumorVol, color = \"midnightblue\")\n",
    "plt.plot(mouseWeight, regressValues, color =\"firebrick\")\n",
    "plt.annotate(lineEq, (20, 36), fontsize = 15, color = \"firebrick\")\n",
    "plt.title(\"Average Mouse Weight versus Average Tumor Volume for Mice Treated with Capomulin\")\n",
    "plt.xlabel(\"Average Mouse Weight (g)\")\n",
    "plt.ylabel(\"Average Tumor Volume (mm3)\")\n",
    "plt.show()\n"
   ]
  },
  {
   "cell_type": "code",
   "execution_count": null,
   "metadata": {},
   "outputs": [],
   "source": []
  }
 ],
 "metadata": {
  "anaconda-cloud": {},
  "kernelspec": {
   "display_name": "Python 3",
   "language": "python",
   "name": "python3"
  },
  "language_info": {
   "codemirror_mode": {
    "name": "ipython",
    "version": 3
   },
   "file_extension": ".py",
   "mimetype": "text/x-python",
   "name": "python",
   "nbconvert_exporter": "python",
   "pygments_lexer": "ipython3",
   "version": "3.6.9"
  }
 },
 "nbformat": 4,
 "nbformat_minor": 2
}
